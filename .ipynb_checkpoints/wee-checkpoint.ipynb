{
 "cells": [
  {
   "cell_type": "code",
   "execution_count": 2,
   "metadata": {},
   "outputs": [],
   "source": [
    "import cv2\n",
    "import numpy as np"
   ]
  },
  {
   "cell_type": "code",
   "execution_count": 4,
   "metadata": {},
   "outputs": [
    {
     "ename": "FileNotFoundError",
     "evalue": "[Errno 2] No such file or directory: 'wee/2.txt'",
     "output_type": "error",
     "traceback": [
      "\u001b[1;31m---------------------------------------------------------------------------\u001b[0m",
      "\u001b[1;31mFileNotFoundError\u001b[0m                         Traceback (most recent call last)",
      "\u001b[1;32m<ipython-input-4-8b3bca786d34>\u001b[0m in \u001b[0;36m<module>\u001b[1;34m\u001b[0m\n\u001b[0;32m      1\u001b[0m \u001b[0mimage\u001b[0m\u001b[1;33m=\u001b[0m\u001b[0mcv2\u001b[0m\u001b[1;33m.\u001b[0m\u001b[0mimread\u001b[0m\u001b[1;33m(\u001b[0m\u001b[1;34m'wee/2.jpg'\u001b[0m\u001b[1;33m)\u001b[0m\u001b[1;33m\u001b[0m\u001b[1;33m\u001b[0m\u001b[0m\n\u001b[1;32m----> 2\u001b[1;33m \u001b[1;32mwith\u001b[0m \u001b[0mopen\u001b[0m\u001b[1;33m(\u001b[0m\u001b[1;34m\"wee/2.txt\"\u001b[0m\u001b[1;33m)\u001b[0m \u001b[1;32mas\u001b[0m \u001b[0mfile\u001b[0m\u001b[1;33m:\u001b[0m\u001b[1;33m\u001b[0m\u001b[1;33m\u001b[0m\u001b[0m\n\u001b[0m\u001b[0;32m      3\u001b[0m     \u001b[0marray\u001b[0m \u001b[1;33m=\u001b[0m \u001b[1;33m[\u001b[0m\u001b[0mrow\u001b[0m\u001b[1;33m.\u001b[0m\u001b[0mstrip\u001b[0m\u001b[1;33m(\u001b[0m\u001b[1;33m)\u001b[0m \u001b[1;32mfor\u001b[0m \u001b[0mrow\u001b[0m \u001b[1;32min\u001b[0m \u001b[0mfile\u001b[0m\u001b[1;33m]\u001b[0m\u001b[1;33m\u001b[0m\u001b[1;33m\u001b[0m\u001b[0m\n\u001b[0;32m      4\u001b[0m \u001b[0mprint\u001b[0m\u001b[1;33m(\u001b[0m\u001b[0marray\u001b[0m\u001b[1;33m)\u001b[0m\u001b[1;33m\u001b[0m\u001b[1;33m\u001b[0m\u001b[0m\n\u001b[0;32m      5\u001b[0m \u001b[1;32mfor\u001b[0m \u001b[0mi\u001b[0m \u001b[1;32min\u001b[0m \u001b[0mrange\u001b[0m\u001b[1;33m(\u001b[0m\u001b[0mlen\u001b[0m\u001b[1;33m(\u001b[0m\u001b[0marray\u001b[0m\u001b[1;33m)\u001b[0m\u001b[1;33m)\u001b[0m\u001b[1;33m:\u001b[0m\u001b[1;33m\u001b[0m\u001b[1;33m\u001b[0m\u001b[0m\n",
      "\u001b[1;31mFileNotFoundError\u001b[0m: [Errno 2] No such file or directory: 'wee/2.txt'"
     ]
    }
   ],
   "source": [
    "image=cv2.imread('we/2.jpg')\n",
    "with open(\"wee/2.txt\") as file:\n",
    "    array = [row.strip() for row in file]\n",
    "print(array)\n",
    "for i in range(len(array)):\n",
    "    arr=array[i]\n",
    "    #print(arr)\n",
    "    arr=arr.split(' ')\n",
    "    #print(arr)\n",
    "    #for j in range(len(arr)):\n",
    "     #   print(arr[j])\n",
    "    if int(arr[0])==0:\n",
    "        print(arr)\n",
    "        x=int(float(arr[1])*image.shape[1]) #99\n",
    "        y=int(float(arr[2])*image.shape[0]) #107\n",
    "        w=int(float(arr[3])*image.shape[1]) #158\n",
    "        h=int(float(arr[4])*image.shape[0]) #206\n",
    "        print(i)\n",
    "        crop = image [y-int(h/2):y+int(h/2), x-int(w/2):x+int(w/2)]\n",
    "        #print(type())\n",
    "        cv2.imwrite('crop{:>0.5}.png'.format(float(i)), crop)\n",
    "\n",
    "        \n"
   ]
  },
  {
   "cell_type": "code",
   "execution_count": 12,
   "metadata": {
    "scrolled": true
   },
   "outputs": [
    {
     "name": "stdout",
     "output_type": "stream",
     "text": [
      "1\n",
      "427 104 44 126\n",
      "(640, 480, 3)\n",
      "<class 'int'>\n"
     ]
    },
    {
     "data": {
      "text/plain": [
       "\"\\ncv2.imshow('image',crop)\\ncv2.waitKey(0) & 0xFF\\ncv2.destroyAllWindows()\""
      ]
     },
     "execution_count": 12,
     "metadata": {},
     "output_type": "execute_result"
    }
   ],
   "source": [
    "print(arr1[0])\n",
    "x=int(float(arr1[1])*image.shape[1]) #99\n",
    "y=int(float(arr1[2])*image.shape[0]) #107\n",
    "w=int(float(arr1[3])*image.shape[1]) #158\n",
    "h=int(float(arr1[4])*image.shape[0]) #206\n",
    "\n",
    "print(x,y,w,h)\n",
    "image=cv2.imread('wee/1.jpg')\n",
    "crop = image [y-int(h/2):y+int(h/2), x-int(w/2):x+int(w/2)]\n",
    "print(type())\n",
    "#cv2.imwrite('crop{:>0.5}.png'.format(1), crop)\n",
    "\n",
    "'''\n",
    "cv2.imshow('image',crop)\n",
    "cv2.waitKey(0) & 0xFF\n",
    "cv2.destroyAllWindows()'''"
   ]
  },
  {
   "cell_type": "code",
   "execution_count": null,
   "metadata": {},
   "outputs": [],
   "source": [
    "img = cv2.imread('wee/roi.jpg')\n",
    "\n",
    "ball  =  img [ 280 : 340 ,  330 : 390 ] \n",
    "img [ 273 : 333 ,  100 : 160 ]  =  ball\n",
    "cv2.imshow('image',ball)\n",
    "cv2.waitKey(0)\n",
    "cv2.destroyAllWindows()"
   ]
  },
  {
   "cell_type": "code",
   "execution_count": 1,
   "metadata": {},
   "outputs": [
    {
     "ename": "NameError",
     "evalue": "name 'cv2' is not defined",
     "output_type": "error",
     "traceback": [
      "\u001b[1;31m---------------------------------------------------------------------------\u001b[0m",
      "\u001b[1;31mNameError\u001b[0m                                 Traceback (most recent call last)",
      "\u001b[1;32m<ipython-input-1-de1f84b325f0>\u001b[0m in \u001b[0;36m<module>\u001b[1;34m\u001b[0m\n\u001b[0;32m      1\u001b[0m \u001b[1;31m# Read image\u001b[0m\u001b[1;33m\u001b[0m\u001b[1;33m\u001b[0m\u001b[1;33m\u001b[0m\u001b[0m\n\u001b[1;32m----> 2\u001b[1;33m \u001b[0mim\u001b[0m \u001b[1;33m=\u001b[0m \u001b[0mcv2\u001b[0m\u001b[1;33m.\u001b[0m\u001b[0mimread\u001b[0m\u001b[1;33m(\u001b[0m\u001b[1;34m\"wee/roi.jpg\"\u001b[0m\u001b[1;33m)\u001b[0m\u001b[1;33m\u001b[0m\u001b[1;33m\u001b[0m\u001b[0m\n\u001b[0m\u001b[0;32m      3\u001b[0m \u001b[1;33m\u001b[0m\u001b[0m\n\u001b[0;32m      4\u001b[0m \u001b[1;31m# Select ROI\u001b[0m\u001b[1;33m\u001b[0m\u001b[1;33m\u001b[0m\u001b[1;33m\u001b[0m\u001b[0m\n\u001b[0;32m      5\u001b[0m \u001b[0mr\u001b[0m \u001b[1;33m=\u001b[0m \u001b[0mcv2\u001b[0m\u001b[1;33m.\u001b[0m\u001b[0mselectROI\u001b[0m\u001b[1;33m(\u001b[0m\u001b[0mim\u001b[0m\u001b[1;33m)\u001b[0m\u001b[1;33m\u001b[0m\u001b[1;33m\u001b[0m\u001b[0m\n",
      "\u001b[1;31mNameError\u001b[0m: name 'cv2' is not defined"
     ]
    }
   ],
   "source": [
    "    # Read image\n",
    "    im = cv2.imread(\"wee/roi.jpg\")\n",
    "     \n",
    "    # Select ROI\n",
    "    r = cv2.selectROI(im)\n",
    "     \n",
    "    # Crop image\n",
    "    imCrop = im[int(r[1]):int(r[1]+r[3]), int(r[0]):int(r[0]+r[2])]\n",
    " \n",
    "    # Display cropped image\n",
    "    cv2.imshow(\"Image\", imCrop)\n",
    "    cv2.waitKey(0)"
   ]
  },
  {
   "cell_type": "code",
   "execution_count": null,
   "metadata": {},
   "outputs": [],
   "source": [
    "x=int(float(arr[1])*image.shape[1]) #99\n",
    "        y=int(float(arr[2])*image.shape[0]) #107\n",
    "        w=int(float(arr[3])*image.shape[1]) #158\n",
    "        h=int(float(arr[4])*image.shape[0]) #206\n",
    "        print(i)\n",
    "        crop = image [y-int(h/2):y+int(h/2), x-int(w/2):x+int(w/2)]\n",
    "        #print(type())\n",
    "        cv2.imwrite('crop{:>0.5}.png'.format(float(i)), crop)"
   ]
  }
 ],
 "metadata": {
  "kernelspec": {
   "display_name": "Python 3",
   "language": "python",
   "name": "python3"
  },
  "language_info": {
   "codemirror_mode": {
    "name": "ipython",
    "version": 3
   },
   "file_extension": ".py",
   "mimetype": "text/x-python",
   "name": "python",
   "nbconvert_exporter": "python",
   "pygments_lexer": "ipython3",
   "version": "3.6.8"
  }
 },
 "nbformat": 4,
 "nbformat_minor": 2
}
